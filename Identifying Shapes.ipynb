{
 "cells": [
  {
   "cell_type": "markdown",
   "metadata": {},
   "source": [
    "### Identifying The Shapes"
   ]
  },
  {
   "cell_type": "code",
   "execution_count": 1,
   "metadata": {},
   "outputs": [],
   "source": [
    "import cv2"
   ]
  },
  {
   "cell_type": "code",
   "execution_count": 2,
   "metadata": {},
   "outputs": [],
   "source": [
    "import numpy as np"
   ]
  },
  {
   "cell_type": "code",
   "execution_count": null,
   "metadata": {},
   "outputs": [],
   "source": [
    "#Load the image and convert into grayscale\n",
    "image = cv2.imread('shapes.jpg')\n",
    "gray = cv2.cvtColor(image, cv2.COLOR_BGR2GRAY)\n",
    "\n",
    "cv2.imshow('Identifying Shapes', image)\n",
    "cv2.waitKey(0)\n",
    "\n",
    "ret,thresh = cv2.threshold(gray,127,255,1)\n",
    "\n",
    "#Extract Contours\n",
    "contours,hierarchy = cv2.findContours(thresh.copy(),cv2.RETR_LIST,cv2.CHAIN_APPROX_NONE)\n",
    "\n",
    "for cnt in contours :\n",
    "    \n",
    "    #get approximate Polygons\n",
    "    approx = cv2.approxPolyDP(cnt,0.01*cv2.arcLength(cnt,True),True)\n",
    "    \n",
    "    if len(approx) == 3 :\n",
    "        shape_name = \"Traingle\"\n",
    "        cv2.drawContours(image,[cnt],0,(0,255,0),-1)\n",
    "        \n",
    "        #Find Contours Centres to place text at the centre\n",
    "        M = cv2.moments(cnt)\n",
    "        cx = int(M['m10'] / M['m00'])\n",
    "        cy = int(M['m01'] / M['m00'])\n",
    "        cv2.putText(image,shape_name,(cx-50,cy),cv2.FONT_HERSHEY_SIMPLEX,1, (0,0,0),1)\n",
    "        \n",
    "    elif len(approx) == 4 :\n",
    "        x,y,w,h = cv2.boundingRect(cnt)\n",
    "        M = cv2.moments(cnt)\n",
    "        cx = int(M['m10'] / M['m00'])\n",
    "        cy = int(M['m01'] / M['m00'])\n",
    "        \n",
    "        #check to see if 4 sides plygon is Square or Rectangle\n",
    "        #cv2.boundaryRect returns the Top-Left and then width and Height\n",
    "        \n",
    "        if abs(w-h) <= 3 :\n",
    "            shape_name = \"Square\"\n",
    "            \n",
    "            #Find contours centres to place text at the centre\n",
    "            cv2.drawContours(image,[cnt],0,(0,125,255),-1)\n",
    "            cv2.putText(image,shape_name,(cx-50,cy),cv2.FONT_HERSHEY_SIMPLEX,1,(0,0,0),1) \n",
    "            \n",
    "            \n",
    "        elif len(approx) == 10 :\n",
    "            shape_name = \"star\"\n",
    "            \n",
    "            cv2.drawContours(image,[cnt],0,(255,255,0),-1)\n",
    "            M = cv2.moments(cnt)\n",
    "            cx = int(M['m10'] / M['m00'])\n",
    "            cy = int(M['m01'] / M['m00'])\n",
    "            cv2.putText(image,shape_name,(cx-50,cy),cv2.FONT_HERSHEY_SIMPLEX,1, (0,0,0),1)\n",
    "            \n",
    "        elif len(approx) >= 15 :\n",
    "            shape_name = \"circle\"\n",
    "            \n",
    "            cv2.drawContours(image,[cnt],0,(0,255,255),-1)\n",
    "            M = cv2.moments(cnt)\n",
    "            cx = int(M['m10'] / M['m00'])\n",
    "            cy = int(M['m01'] / M['m00'])\n",
    "            cv2.putText(image,shape_name,(cx-50,cy),cv2.FONT_HERSHEY_SIMPLEX,1,(0,0,0),1)\n",
    "            \n",
    "            \n",
    "        else : \n",
    "            shape_name = \"Rectangle\"\n",
    "            \n",
    "            #Find contour centres to place text at the centre\n",
    "            cv2.drawContours(image,[cnt],0,(0,0,255),-1)\n",
    "            M = cv2.moments(cnt)\n",
    "            cx = int(M['m10'] / M['m00'])\n",
    "            cy = int(M['m01'] / M['m00'])\n",
    "            cv2.putText(image,shape_name,(cx-50,cy),cv2.FONT_HERSHEY_SIMPLEX,1,(0,0,0),1)   \n",
    "       \n",
    "            \n",
    "cv2.imshow('Identifying Shapes',image)\n",
    "cv2.waitKey(0)\n",
    "cv2.destroyAllWindows()\n",
    "            \n",
    "    \n"
   ]
  }
 ],
 "metadata": {
  "kernelspec": {
   "display_name": "Python 3",
   "language": "python",
   "name": "python3"
  },
  "language_info": {
   "codemirror_mode": {
    "name": "ipython",
    "version": 3
   },
   "file_extension": ".py",
   "mimetype": "text/x-python",
   "name": "python",
   "nbconvert_exporter": "python",
   "pygments_lexer": "ipython3",
   "version": "3.8.3"
  }
 },
 "nbformat": 4,
 "nbformat_minor": 4
}
